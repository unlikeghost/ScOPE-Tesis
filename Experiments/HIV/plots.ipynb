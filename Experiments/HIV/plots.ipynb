{
 "cells": [
  {
   "cell_type": "markdown",
   "id": "990fd2e2",
   "metadata": {},
   "source": [
    "# Plots"
   ]
  },
  {
   "cell_type": "code",
   "execution_count": 1,
   "id": "3defbcf6",
   "metadata": {},
   "outputs": [
    {
     "name": "stderr",
     "output_type": "stream",
     "text": [
      "Skipped loading some Pytorch utilities, missing a dependency. No module named 'torch'\n",
      "No normalization for SPS. Feature removed!\n",
      "No normalization for AvgIpc. Feature removed!\n",
      "No normalization for NumAmideBonds. Feature removed!\n",
      "No normalization for NumAtomStereoCenters. Feature removed!\n",
      "No normalization for NumBridgeheadAtoms. Feature removed!\n",
      "No normalization for NumHeterocycles. Feature removed!\n",
      "No normalization for NumSpiroAtoms. Feature removed!\n",
      "No normalization for NumUnspecifiedAtomStereoCenters. Feature removed!\n",
      "No normalization for Phi. Feature removed!\n",
      "Skipped loading some Tensorflow models, missing a dependency. No module named 'tensorflow'\n",
      "Skipped loading some PyTorch models, missing a dependency. No module named 'torch'\n",
      "No module named 'torch'\n",
      "Skipped loading modules with pytorch-geometric dependency, missing a dependency. No module named 'torch'\n",
      "Skipped loading modules with pytorch-lightning dependency, missing a dependency. No module named 'torch'\n",
      "Skipped loading some Jax models, missing a dependency. No module named 'jax'\n",
      "Skipped loading some PyTorch models, missing a dependency. No module named 'tensorflow'\n"
     ]
    },
    {
     "name": "stdout",
     "output_type": "stream",
     "text": [
      "This module requires PyTorch to be installed.\n"
     ]
    }
   ],
   "source": [
    "import os\n",
    "import warnings\n",
    "import itertools\n",
    "import numpy as np\n",
    "import pandas as pd\n",
    "import matplotlib.pyplot as plt\n",
    "from mpl_toolkits.mplot3d import Axes3D\n",
    "\n",
    "import deepchem as dc\n",
    "from tqdm import tqdm\n",
    "from datetime import datetime\n",
    "from sklearn.decomposition import PCA\n",
    "from typing import List, Iterator, Dict\n",
    "from IPython.display import display"
   ]
  },
  {
   "cell_type": "code",
   "execution_count": 2,
   "id": "d9e02456",
   "metadata": {},
   "outputs": [],
   "source": [
    "from scope.compression import get_compressor\n",
    "from scope.compression import CompressionMatrixFactory\n",
    "from scope.utils import sample_generation"
   ]
  },
  {
   "cell_type": "code",
   "execution_count": 14,
   "id": "e714d97e",
   "metadata": {},
   "outputs": [],
   "source": [
    "warnings.filterwarnings('ignore', category=UserWarning)\n",
    "warnings.filterwarnings('ignore', category=FutureWarning)\n",
    "plt.rcParams['figure.max_open_warning'] = 0\n",
    "plt.ioff()\n",
    "np.random.seed(42)"
   ]
  },
  {
   "cell_type": "code",
   "execution_count": 15,
   "id": "f21a360e",
   "metadata": {},
   "outputs": [
    {
     "data": {
      "text/html": [
       "<div>\n",
       "<style scoped>\n",
       "    .dataframe tbody tr th:only-of-type {\n",
       "        vertical-align: middle;\n",
       "    }\n",
       "\n",
       "    .dataframe tbody tr th {\n",
       "        vertical-align: top;\n",
       "    }\n",
       "\n",
       "    .dataframe thead th {\n",
       "        text-align: right;\n",
       "    }\n",
       "</style>\n",
       "<table border=\"1\" class=\"dataframe\">\n",
       "  <thead>\n",
       "    <tr style=\"text-align: right;\">\n",
       "      <th></th>\n",
       "      <th>smiles</th>\n",
       "      <th>label</th>\n",
       "    </tr>\n",
       "  </thead>\n",
       "  <tbody>\n",
       "    <tr>\n",
       "      <th>0</th>\n",
       "      <td>Fc1ccc(cc1C#CCCCF)[C@]1(N=C(N)N(C)C1=O)c1ccc(O...</td>\n",
       "      <td>1</td>\n",
       "    </tr>\n",
       "    <tr>\n",
       "      <th>1</th>\n",
       "      <td>FCC#Cc1cc(ccc1)[C@]1(N=C(N)N(C)C1=O)c1ccc(OC(F...</td>\n",
       "      <td>1</td>\n",
       "    </tr>\n",
       "    <tr>\n",
       "      <th>2</th>\n",
       "      <td>FCCC#Cc1cc(ccc1)[C@]1(N=C(N)N(C)C1=O)c1ccc(OC(...</td>\n",
       "      <td>1</td>\n",
       "    </tr>\n",
       "    <tr>\n",
       "      <th>3</th>\n",
       "      <td>FC(F)Oc1ccc(cc1)[C@@]1(N=C(N)N(C)C1=O)c1cc(ccc...</td>\n",
       "      <td>1</td>\n",
       "    </tr>\n",
       "    <tr>\n",
       "      <th>4</th>\n",
       "      <td>FC(F)Oc1ccc(cc1)[C@@]1(N=C(N)N(C)C1=O)c1cc(ccc...</td>\n",
       "      <td>1</td>\n",
       "    </tr>\n",
       "  </tbody>\n",
       "</table>\n",
       "</div>"
      ],
      "text/plain": [
       "                                              smiles  label\n",
       "0  Fc1ccc(cc1C#CCCCF)[C@]1(N=C(N)N(C)C1=O)c1ccc(O...      1\n",
       "1  FCC#Cc1cc(ccc1)[C@]1(N=C(N)N(C)C1=O)c1ccc(OC(F...      1\n",
       "2  FCCC#Cc1cc(ccc1)[C@]1(N=C(N)N(C)C1=O)c1ccc(OC(...      1\n",
       "3  FC(F)Oc1ccc(cc1)[C@@]1(N=C(N)N(C)C1=O)c1cc(ccc...      1\n",
       "4  FC(F)Oc1ccc(cc1)[C@@]1(N=C(N)N(C)C1=O)c1cc(ccc...      1"
      ]
     },
     "execution_count": 15,
     "metadata": {},
     "output_type": "execute_result"
    }
   ],
   "source": [
    "tasks, datasets, _ = dc.molnet.load_bace_classification(\n",
    "    featurizer='Raw'\n",
    ")\n",
    "train, valid, test = datasets\n",
    "full_dataset = dc.data.DiskDataset.merge([train, valid, test])\n",
    "smiles_list = full_dataset.ids\n",
    "\n",
    "df = pd.DataFrame({\n",
    "    \"smiles\": smiles_list,\n",
    "    \"label\": full_dataset.y.flatten().astype(int)\n",
    "})\n",
    "\n",
    "df.head()"
   ]
  },
  {
   "cell_type": "code",
   "execution_count": 12,
   "id": "833936fd",
   "metadata": {},
   "outputs": [
    {
     "name": "stdout",
     "output_type": "stream",
     "text": [
      "label\n",
      "0    822\n",
      "1    691\n",
      "Name: count, dtype: int64\n"
     ]
    }
   ],
   "source": [
    "conteo = df['label'].value_counts()\n",
    "print(conteo)"
   ]
  },
  {
   "cell_type": "code",
   "execution_count": 16,
   "id": "ef5fb3d4",
   "metadata": {},
   "outputs": [],
   "source": [
    "EXP_NAME: str = 'HIV'\n",
    "RESULTS_PATH: str = os.path.join('results')\n",
    "IMAGES_RESULTS_PATH: str = os.path.join(RESULTS_PATH, 'Images')\n",
    "SMILES_COLUMN: str = 'smiles'\n",
    "LABEL_COLUMN: str = 'label'"
   ]
  },
  {
   "cell_type": "code",
   "execution_count": null,
   "id": "d6f6640c",
   "metadata": {},
   "outputs": [],
   "source": [
    "STR_SEPARATOR: str = '\\t'\n",
    "\n",
    "MIN_SAMPLES: int = 50\n",
    "\n",
    "COMPRESSION_DISTANCES_TO_EVALUATE: List[str] = [\n",
    "    'ncd',\n",
    "    'cdm',\n",
    "    'clm',\n",
    "    'mse'\n",
    "]\n",
    "\n",
    "COMPRESSORS_FUNCTIONS_TO_EVALUATE: List[str] = [\n",
    "    'gzip',\n",
    "    'bz2',\n",
    "    'lz77',\n",
    "    'zstandard'\n",
    "]\n",
    "\n",
    "BEST_SIGMA: List[bool] = [True, False]\n",
    "USE_MATCHING_METHOD: List[bool] = [True, False]"
   ]
  }
 ],
 "metadata": {
  "kernelspec": {
   "display_name": "scope (3.12.11)",
   "language": "python",
   "name": "python3"
  },
  "language_info": {
   "codemirror_mode": {
    "name": "ipython",
    "version": 3
   },
   "file_extension": ".py",
   "mimetype": "text/x-python",
   "name": "python",
   "nbconvert_exporter": "python",
   "pygments_lexer": "ipython3",
   "version": "3.12.11"
  }
 },
 "nbformat": 4,
 "nbformat_minor": 5
}
